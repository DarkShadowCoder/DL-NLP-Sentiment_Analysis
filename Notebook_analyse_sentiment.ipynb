{
 "cells": [
  {
   "cell_type": "markdown",
   "id": "7907a0f1-4e9d-4d35-b17f-ba646152c3f1",
   "metadata": {
    "jp-MarkdownHeadingCollapsed": true,
    "tags": []
   },
   "source": [
    "<font color = 'red' ><h1 style = 'text-align: center; font-family: cambria'>NOTEBOOK D'ANALYSE DE SENTIMENT AVEC UTILISATION DES LSTM</h1></font>\n",
    "        <h3 style = 'text-decoration : underline; color: blue'>Objectifs : </h3>\n",
    "        <li>Importer le datasets et les modules de traitement du langage naturel</li>\n",
    "        <li>Pretraiter des données</li>\n",
    "        <li>Encodage et vectorisation des données</li>\n",
    "        <li>Creation du model</li>\n",
    "        <li>Entrainer le model</li>\n",
    "        <li>Prediction et analyse du resultat</li>\n"
   ]
  },
  {
   "cell_type": "markdown",
   "id": "4128f183-ee26-4f35-ac58-9dc6fc79c160",
   "metadata": {
    "tags": []
   },
   "source": [
    "<h1 style = 'color : blue; font-family: cambria; text-align: center'>I- Importation des modules</h1>"
   ]
  },
  {
   "cell_type": "markdown",
   "id": "4fd46276-1049-4c6d-a644-3443000d1fae",
   "metadata": {},
   "source": [
    "<h3 style = 'color : orange; font-family: cambria'>I.1- Importation des bibliotheques</h3>"
   ]
  },
  {
   "cell_type": "code",
   "execution_count": 31,
   "id": "9e814283-4a70-488c-a0ea-de551e0f8a4c",
   "metadata": {},
   "outputs": [],
   "source": [
    "import os ,sys\n",
    "import warnings\n",
    "warnings.filterwarnings('ignore')\n",
    "\n",
    "import numpy as np\n",
    "import pandas as pd\n",
    "import matplotlib.pyplot as plt\n",
    "from matplotlib import cm\n",
    "import re\n",
    "import random\n",
    "import string\n",
    "import math\n",
    "import itertools\n",
    "\n",
    "from sklearn.model_selection import train_test_split\n",
    "from sklearn.preprocessing import LabelEncoder\n",
    "from sklearn.feature_extraction.text import CountVectorizer , TfidfVectorizer\n",
    "\n",
    "# Modules pour la construction du modèle\n",
    "import tensorflow as tf\n",
    "from tensorflow import keras\n",
    "from keras.layers import Input,Dense,Activation,LSTM,Embedding,Conv1D,Bidirectional,SpatialDropout1D,Dropout\n",
    "from keras import Sequential\n",
    "from keras.preprocessing import sequence\n",
    "from keras.utils import pad_sequences\n",
    "from keras.callbacks import Callback , ModelCheckpoint , CSVLogger , ReduceLROnPlateau , LearningRateScheduler , EarlyStopping\n",
    "from keras.optimizers import Adam , RMSprop\n",
    "from keras.preprocessing.text import Tokenizer\n",
    "\n",
    "\n",
    "from sklearn.metrics import confusion_matrix , classification_report\n",
    "\n",
    "import nltk\n",
    "#nltk.download('stopwords')\n",
    "from nltk.corpus import stopwords\n",
    "from nltk.stem import SnowballStemmer , WordNetLemmatizer\n",
    "from nltk.tokenize import word_tokenize , RegexpTokenizer\n",
    "\n",
    "# Parametrages\n",
    "path = 'data/training.1600000.processed.noemoticon.csv'\n",
    "np.random.seed(31415)\n",
    "tf.random.set_seed(2)\n",
    "%matplotlib inline\n",
    "plt.style.use('ggplot')"
   ]
  },
  {
   "cell_type": "markdown",
   "id": "ead699f4-9288-4a2c-b3c3-24d5bface75e",
   "metadata": {},
   "source": [
    "<h3 style = 'color : orange; font-family: cambria'>I.2- Importation du datasets</h3>"
   ]
  },
  {
   "cell_type": "code",
   "execution_count": 2,
   "id": "dacbb9ca-e09b-46a8-b01f-be66ca02b6bf",
   "metadata": {},
   "outputs": [
    {
     "data": {
      "text/html": [
       "<div>\n",
       "<style scoped>\n",
       "    .dataframe tbody tr th:only-of-type {\n",
       "        vertical-align: middle;\n",
       "    }\n",
       "\n",
       "    .dataframe tbody tr th {\n",
       "        vertical-align: top;\n",
       "    }\n",
       "\n",
       "    .dataframe thead th {\n",
       "        text-align: right;\n",
       "    }\n",
       "</style>\n",
       "<table border=\"1\" class=\"dataframe\">\n",
       "  <thead>\n",
       "    <tr style=\"text-align: right;\">\n",
       "      <th></th>\n",
       "      <th>0</th>\n",
       "      <th>1</th>\n",
       "      <th>2</th>\n",
       "      <th>3</th>\n",
       "      <th>4</th>\n",
       "      <th>5</th>\n",
       "    </tr>\n",
       "  </thead>\n",
       "  <tbody>\n",
       "    <tr>\n",
       "      <th>0</th>\n",
       "      <td>0</td>\n",
       "      <td>1467810369</td>\n",
       "      <td>Mon Apr 06 22:19:45 PDT 2009</td>\n",
       "      <td>NO_QUERY</td>\n",
       "      <td>_TheSpecialOne_</td>\n",
       "      <td>@switchfoot http://twitpic.com/2y1zl - Awww, t...</td>\n",
       "    </tr>\n",
       "    <tr>\n",
       "      <th>1</th>\n",
       "      <td>0</td>\n",
       "      <td>1467810672</td>\n",
       "      <td>Mon Apr 06 22:19:49 PDT 2009</td>\n",
       "      <td>NO_QUERY</td>\n",
       "      <td>scotthamilton</td>\n",
       "      <td>is upset that he can't update his Facebook by ...</td>\n",
       "    </tr>\n",
       "    <tr>\n",
       "      <th>2</th>\n",
       "      <td>0</td>\n",
       "      <td>1467810917</td>\n",
       "      <td>Mon Apr 06 22:19:53 PDT 2009</td>\n",
       "      <td>NO_QUERY</td>\n",
       "      <td>mattycus</td>\n",
       "      <td>@Kenichan I dived many times for the ball. Man...</td>\n",
       "    </tr>\n",
       "    <tr>\n",
       "      <th>3</th>\n",
       "      <td>0</td>\n",
       "      <td>1467811184</td>\n",
       "      <td>Mon Apr 06 22:19:57 PDT 2009</td>\n",
       "      <td>NO_QUERY</td>\n",
       "      <td>ElleCTF</td>\n",
       "      <td>my whole body feels itchy and like its on fire</td>\n",
       "    </tr>\n",
       "    <tr>\n",
       "      <th>4</th>\n",
       "      <td>0</td>\n",
       "      <td>1467811193</td>\n",
       "      <td>Mon Apr 06 22:19:57 PDT 2009</td>\n",
       "      <td>NO_QUERY</td>\n",
       "      <td>Karoli</td>\n",
       "      <td>@nationwideclass no, it's not behaving at all....</td>\n",
       "    </tr>\n",
       "  </tbody>\n",
       "</table>\n",
       "</div>"
      ],
      "text/plain": [
       "   0           1                             2         3                4  \\\n",
       "0  0  1467810369  Mon Apr 06 22:19:45 PDT 2009  NO_QUERY  _TheSpecialOne_   \n",
       "1  0  1467810672  Mon Apr 06 22:19:49 PDT 2009  NO_QUERY    scotthamilton   \n",
       "2  0  1467810917  Mon Apr 06 22:19:53 PDT 2009  NO_QUERY         mattycus   \n",
       "3  0  1467811184  Mon Apr 06 22:19:57 PDT 2009  NO_QUERY          ElleCTF   \n",
       "4  0  1467811193  Mon Apr 06 22:19:57 PDT 2009  NO_QUERY           Karoli   \n",
       "\n",
       "                                                   5  \n",
       "0  @switchfoot http://twitpic.com/2y1zl - Awww, t...  \n",
       "1  is upset that he can't update his Facebook by ...  \n",
       "2  @Kenichan I dived many times for the ball. Man...  \n",
       "3    my whole body feels itchy and like its on fire   \n",
       "4  @nationwideclass no, it's not behaving at all....  "
      ]
     },
     "execution_count": 2,
     "metadata": {},
     "output_type": "execute_result"
    }
   ],
   "source": [
    "# Utilisation de la bibliotheque pandas\n",
    "df = pd.read_csv(path  ,encoding = 'ISO-8859-1' , header = None)\n",
    "df.head()"
   ]
  },
  {
   "cell_type": "code",
   "execution_count": 3,
   "id": "ccc29480-eb6e-4c59-bdd4-8c95f728bbd1",
   "metadata": {},
   "outputs": [
    {
     "name": "stdout",
     "output_type": "stream",
     "text": [
      "Datasets de 1600000 lignes et 6 colonnes\n"
     ]
    }
   ],
   "source": [
    "print(\"Datasets de {0} lignes et {1} colonnes\".format(df.shape[0] , df.shape[1]))"
   ]
  },
  {
   "cell_type": "code",
   "execution_count": 4,
   "id": "a996e80b-be2f-4b96-8292-3c86324f2cb6",
   "metadata": {},
   "outputs": [
    {
     "name": "stdout",
     "output_type": "stream",
     "text": [
      "<class 'pandas.core.frame.DataFrame'>\n",
      "RangeIndex: 1600000 entries, 0 to 1599999\n",
      "Data columns (total 6 columns):\n",
      " #   Column  Non-Null Count    Dtype \n",
      "---  ------  --------------    ----- \n",
      " 0   0       1600000 non-null  int64 \n",
      " 1   1       1600000 non-null  int64 \n",
      " 2   2       1600000 non-null  object\n",
      " 3   3       1600000 non-null  object\n",
      " 4   4       1600000 non-null  object\n",
      " 5   5       1600000 non-null  object\n",
      "dtypes: int64(2), object(4)\n",
      "memory usage: 73.2+ MB\n"
     ]
    }
   ],
   "source": [
    "# Informations sur le dataset\n",
    "df.info()"
   ]
  },
  {
   "cell_type": "code",
   "execution_count": 5,
   "id": "b5b3c43f-4579-4435-8036-c8b39e63ac24",
   "metadata": {},
   "outputs": [],
   "source": [
    "# Renommons le datasets grace a la description du datasets\n",
    "df.columns = ['label' , 'time' , 'date' , 'query' , 'user_id' , 'text']"
   ]
  },
  {
   "cell_type": "code",
   "execution_count": 6,
   "id": "bf058d0c-af68-46c9-9741-cbd1c4bf060b",
   "metadata": {},
   "outputs": [
    {
     "data": {
      "text/plain": [
       "0    800000\n",
       "4    800000\n",
       "Name: label, dtype: int64"
      ]
     },
     "execution_count": 6,
     "metadata": {},
     "output_type": "execute_result"
    }
   ],
   "source": [
    "# Contenu de la colonne 'sentiment'\n",
    "df['label'].value_counts()"
   ]
  },
  {
   "cell_type": "code",
   "execution_count": 7,
   "id": "a007f66d-135b-4718-80ee-eff56c71adf7",
   "metadata": {},
   "outputs": [
    {
     "data": {
      "text/plain": [
       "0"
      ]
     },
     "execution_count": 7,
     "metadata": {},
     "output_type": "execute_result"
    }
   ],
   "source": [
    "# recherche des valeyrs de Null\n",
    "np.sum(df.isnull().any(axis = 1))"
   ]
  },
  {
   "cell_type": "markdown",
   "id": "64385a3f-3ff7-4fad-822a-3ef39520a35b",
   "metadata": {},
   "source": [
    "<h1 style = 'color : blue; font-family: cambria; text-align: center'>II- Pretraitement des donnees</h1>\n"
   ]
  },
  {
   "cell_type": "markdown",
   "id": "ee776073-a707-46dc-bbc9-b6c204e37f15",
   "metadata": {},
   "source": [
    "<div style = 'background-color: #f05c07a9;border-radius:30px; border: 2px solid black'><br/><h3 style = 'text-align : center; font-family: cambria;font-size: 35px'>Data preparation</h3>\n",
    "    <li style = 'color : grey;text-align: center; font-size: 18px'>Reduction du dataset pour faciliter l'entrainement</li>\n",
    "    <li style = 'color : grey;text-align: center; font-size: 18px'>Selection des colonnes utiles</li>\n",
    "    <li style = 'color : grey;text-align: center; font-size: 18px'>Visualisation des differents labels</li>\n",
    "    <li style = 'color : grey;text-align: center; font-size: 18px'>Text processing</li>\n",
    "    <li style = 'color : grey;text-align: center; font-size: 18px'>conversion du texte pour l'utilisation</li>\n",
    "    <li style = 'color : grey;text-align: center; font-size: 18px'>Nettoyage du texte</li>\n",
    "    <li style = 'color : grey;text-align: center; font-size: 18px'>Tokenisation du texte</li>\n",
    "    <li style = 'color : grey;text-align: center; font-size: 18px'>Normalisation du texte</li>\n",
    "    <li style = 'color : grey;text-align: center; font-size: 18px'>Extraction et classification des donnees</li><br/><br/>\n",
    "</div>"
   ]
  },
  {
   "cell_type": "code",
   "execution_count": 8,
   "id": "0e658b91-4896-4a26-9782-0c53bf472832",
   "metadata": {},
   "outputs": [
    {
     "data": {
      "text/plain": [
       "0    50000\n",
       "4    50000\n",
       "Name: label, dtype: int64"
      ]
     },
     "execution_count": 8,
     "metadata": {},
     "output_type": "execute_result"
    }
   ],
   "source": [
    "df = df.groupby('label').apply(lambda x: x.sample(n=50000)).reset_index(drop = True)\n",
    "\n",
    "df.label.value_counts()"
   ]
  },
  {
   "cell_type": "code",
   "execution_count": 9,
   "id": "ccdbd16d-3d1e-4eb0-8355-9ed5ae3006e0",
   "metadata": {},
   "outputs": [
    {
     "data": {
      "text/html": [
       "<div>\n",
       "<style scoped>\n",
       "    .dataframe tbody tr th:only-of-type {\n",
       "        vertical-align: middle;\n",
       "    }\n",
       "\n",
       "    .dataframe tbody tr th {\n",
       "        vertical-align: top;\n",
       "    }\n",
       "\n",
       "    .dataframe thead th {\n",
       "        text-align: right;\n",
       "    }\n",
       "</style>\n",
       "<table border=\"1\" class=\"dataframe\">\n",
       "  <thead>\n",
       "    <tr style=\"text-align: right;\">\n",
       "      <th></th>\n",
       "      <th>label</th>\n",
       "      <th>time</th>\n",
       "      <th>date</th>\n",
       "      <th>query</th>\n",
       "      <th>user_id</th>\n",
       "      <th>text</th>\n",
       "    </tr>\n",
       "  </thead>\n",
       "  <tbody>\n",
       "    <tr>\n",
       "      <th>99995</th>\n",
       "      <td>Positive</td>\n",
       "      <td>2057133488</td>\n",
       "      <td>Sat Jun 06 12:26:05 PDT 2009</td>\n",
       "      <td>NO_QUERY</td>\n",
       "      <td>taylormonet23</td>\n",
       "      <td>@TheRealLilZa &amp;quot;oh sayy can you seeeee&amp;quo...</td>\n",
       "    </tr>\n",
       "    <tr>\n",
       "      <th>99996</th>\n",
       "      <td>Positive</td>\n",
       "      <td>1881538206</td>\n",
       "      <td>Fri May 22 04:56:02 PDT 2009</td>\n",
       "      <td>NO_QUERY</td>\n",
       "      <td>KatMcGraw</td>\n",
       "      <td>If it weren't for my kids, I'd ... nevermind.</td>\n",
       "    </tr>\n",
       "    <tr>\n",
       "      <th>99997</th>\n",
       "      <td>Positive</td>\n",
       "      <td>1468421194</td>\n",
       "      <td>Tue Apr 07 01:33:57 PDT 2009</td>\n",
       "      <td>NO_QUERY</td>\n",
       "      <td>Lydisquidie</td>\n",
       "      <td>@Maggotron haha! we think it might have been a...</td>\n",
       "    </tr>\n",
       "    <tr>\n",
       "      <th>99998</th>\n",
       "      <td>Positive</td>\n",
       "      <td>1962518643</td>\n",
       "      <td>Fri May 29 11:10:10 PDT 2009</td>\n",
       "      <td>NO_QUERY</td>\n",
       "      <td>MelissaHourigan</td>\n",
       "      <td>@hezness come to Hooked on Colfax and have som...</td>\n",
       "    </tr>\n",
       "    <tr>\n",
       "      <th>99999</th>\n",
       "      <td>Positive</td>\n",
       "      <td>2000186591</td>\n",
       "      <td>Mon Jun 01 21:35:06 PDT 2009</td>\n",
       "      <td>NO_QUERY</td>\n",
       "      <td>KanJedi</td>\n",
       "      <td>Cleared all the bills for the month. Awesome! ...</td>\n",
       "    </tr>\n",
       "  </tbody>\n",
       "</table>\n",
       "</div>"
      ],
      "text/plain": [
       "          label        time                          date     query  \\\n",
       "99995  Positive  2057133488  Sat Jun 06 12:26:05 PDT 2009  NO_QUERY   \n",
       "99996  Positive  1881538206  Fri May 22 04:56:02 PDT 2009  NO_QUERY   \n",
       "99997  Positive  1468421194  Tue Apr 07 01:33:57 PDT 2009  NO_QUERY   \n",
       "99998  Positive  1962518643  Fri May 29 11:10:10 PDT 2009  NO_QUERY   \n",
       "99999  Positive  2000186591  Mon Jun 01 21:35:06 PDT 2009  NO_QUERY   \n",
       "\n",
       "               user_id                                               text  \n",
       "99995    taylormonet23  @TheRealLilZa &quot;oh sayy can you seeeee&quo...  \n",
       "99996        KatMcGraw     If it weren't for my kids, I'd ... nevermind.   \n",
       "99997      Lydisquidie  @Maggotron haha! we think it might have been a...  \n",
       "99998  MelissaHourigan  @hezness come to Hooked on Colfax and have som...  \n",
       "99999          KanJedi  Cleared all the bills for the month. Awesome! ...  "
      ]
     },
     "execution_count": 9,
     "metadata": {},
     "output_type": "execute_result"
    }
   ],
   "source": [
    "labels_to_sentiment = {0:\"Negative\", 4:\"Positive\"}\n",
    "df.label = df.label.apply(lambda x: labels_to_sentiment[x])\n",
    "df.tail()"
   ]
  },
  {
   "cell_type": "code",
   "execution_count": 10,
   "id": "fc11feab-ab35-4980-898b-d0bcbf03727d",
   "metadata": {},
   "outputs": [
    {
     "data": {
      "text/plain": [
       "Text(0.5, 1.0, 'Sentiment Target Distribution')"
      ]
     },
     "execution_count": 10,
     "metadata": {},
     "output_type": "execute_result"
    },
    {
     "data": {
      "image/png": "[encoded data removed]",
      "text/plain": [
       "<Figure size 800x400 with 1 Axes>"
      ]
     },
     "metadata": {},
     "output_type": "display_data"
    }
   ],
   "source": [
    "### Visualisation des differents labels.\n",
    "val_count = df.label.value_counts()\n",
    "\n",
    "plt.figure(figsize=(8,4))\n",
    "plt.bar(val_count.index, val_count.values)\n",
    "plt.xlabel(\"Sentiment\")\n",
    "plt.ylabel(\"Count\")\n",
    "plt.title(\"Sentiment Target Distribution\")"
   ]
  },
  {
   "cell_type": "code",
   "execution_count": 11,
   "id": "83bf98c7-0d5f-4be3-9dff-08f482b659b5",
   "metadata": {},
   "outputs": [
    {
     "data": {
      "text/plain": [
       "842    The Veronicas were great! But its raining now ...\n",
       "717    just got home after 2 classes. had a great tim...\n",
       "996         @Anna_Montanna Yeah but it isn't activated. \n",
       "690    Cub run with sammers before she leaves for ric...\n",
       "565      @Dunncity  It wasn't suppose to be that easy!!!\n",
       "515    I better have something in the post....been 6 ...\n",
       "687    finally get to use internet after 5 days. inte...\n",
       "810      Blah moving sucks. Why do I have so much stuff \n",
       "47                             Ugh I'm not tired at all \n",
       "506    @Clumsyflic the kid that got a second chance s...\n",
       "Name: text, dtype: object"
      ]
     },
     "execution_count": 11,
     "metadata": {},
     "output_type": "execute_result"
    }
   ],
   "source": [
    "# exploration des nouvelle donnees\n",
    "index = np.random.randint(0,1000,(10))\n",
    "df.iloc[index].text"
   ]
  },
  {
   "cell_type": "markdown",
   "id": "0e8e5630-ee54-4c9d-b943-dc2b9feb311a",
   "metadata": {},
   "source": [
    "<h3 style = 'color : orange; font-family: cambria'>II.1- Nettoyage des donnees</h3>"
   ]
  },
  {
   "cell_type": "code",
   "execution_count": 12,
   "id": "019416de-6c3b-4ec2-8e29-0e5624549a3c",
   "metadata": {},
   "outputs": [
    {
     "data": {
      "text/plain": [
       "99995    @thereallilza &quot;oh sayy can you seeeee&quo...\n",
       "99996       if it weren't for my kids, i'd ... nevermind. \n",
       "99997    @maggotron haha! we think it might have been a...\n",
       "99998    @hezness come to hooked on colfax and have som...\n",
       "99999    cleared all the bills for the month. awesome! ...\n",
       "Name: text_trans, dtype: object"
      ]
     },
     "execution_count": 12,
     "metadata": {},
     "output_type": "execute_result"
    }
   ],
   "source": [
    "# Transformer le texte en minuscule\n",
    "df['text_trans'] = df['text'].str.lower()\n",
    "df['text_trans'].tail()"
   ]
  },
  {
   "cell_type": "code",
   "execution_count": 13,
   "id": "250e5a64-bf0f-4a66-ab6e-c499cf035171",
   "metadata": {},
   "outputs": [
    {
     "data": {
      "text/plain": [
       "\"i, me, my, myself, we, our, ours, ourselves, you, you're, you've, you'll, you'd, your, yours, yourself, yourselves, he, him, his, himself, she, she's, her, hers, herself, it, it's, its, itself, they, them, their, theirs, themselves, what, which, who, whom, this, that, that'll, these, those, am, is, are, was, were, be, been, being, have, has, had, having, do, does, did, doing, a, an, the, and, but, if, or, because, as, until, while, of, at, by, for, with, about, against, between, into, through, during, before, after, above, below, to, from, up, down, in, out, on, off, over, under, again, further, then, once, here, there, when, where, why, how, all, any, both, each, few, more, most, other, some, such, no, nor, not, only, own, same, so, than, too, very, s, t, can, will, just, don, don't, should, should've, now, d, ll, m, o, re, ve, y, ain, aren, aren't, couldn, couldn't, didn, didn't, doesn, doesn't, hadn, hadn't, hasn, hasn't, haven, haven't, isn, isn't, ma, mightn, mightn't, mustn, mustn't, needn, needn't, shan, shan't, shouldn, shouldn't, wasn, wasn't, weren, weren't, won, won't, wouldn, wouldn't\""
      ]
     },
     "execution_count": 13,
     "metadata": {},
     "output_type": "execute_result"
    }
   ],
   "source": [
    "# Nettoyage des donnees avec la methode stopwords de nltk\n",
    "stopwords_list = stopwords.words('english')\n",
    "\", \".join(stopwords.words('english'))"
   ]
  },
  {
   "cell_type": "code",
   "execution_count": 14,
   "id": "898926c8-a107-4a24-9a37-1caf022e2553",
   "metadata": {},
   "outputs": [
    {
     "data": {
      "text/plain": [
       "0                @carol_carter1 think believe one time\n",
       "1    @nursebc1974 know!!! boys r wide awake, n i'm ...\n",
       "2    @maddieeann either mean send he's playing hard...\n",
       "3    @mswindows really wish microsoft would stop pu...\n",
       "4    @tommcfly still think brazilian's fans better....\n",
       "Name: text_trans, dtype: object"
      ]
     },
     "execution_count": 14,
     "metadata": {},
     "output_type": "execute_result"
    }
   ],
   "source": [
    "STOPWORDS = set(stopwords.words('english'))\n",
    "def cleaning_stopwords(text):\n",
    "    return \" \".join([word for word in str(text).split() if word not in STOPWORDS])\n",
    "df['text_trans'] = df['text_trans'].apply(lambda text: cleaning_stopwords(text))\n",
    "df['text_trans'].head()"
   ]
  },
  {
   "cell_type": "code",
   "execution_count": 15,
   "id": "7d5b42ca-8e89-4c3e-9700-22304097bfb8",
   "metadata": {},
   "outputs": [
    {
     "data": {
      "text/plain": [
       "99995    thereallilza quotoh sayy seeeeequot aha make h...\n",
       "99996                                   kids id  nevermind\n",
       "99997    maggotron haha think might little old lady liv...\n",
       "99998                           hezness come hooked colfax\n",
       "99999       cleared bills month awesome put rest aside fun\n",
       "Name: text_trans, dtype: object"
      ]
     },
     "execution_count": 15,
     "metadata": {},
     "output_type": "execute_result"
    }
   ],
   "source": [
    "# Nettoyage des ponctuations\n",
    "ponctuations = string.punctuation\n",
    "ponctuations_list = ponctuations\n",
    "\n",
    "def cleaning_punctuations(text):\n",
    "    translator = str.maketrans('', '', ponctuations_list)\n",
    "    return text.translate(translator)\n",
    "\n",
    "df['text_trans']= df['text_trans'].apply(lambda x: cleaning_punctuations(x))\n",
    "df['text_trans'].tail()"
   ]
  },
  {
   "cell_type": "code",
   "execution_count": 16,
   "id": "1cdd36d4-70db-44e4-b7ad-3e5c41e74158",
   "metadata": {},
   "outputs": [
    {
     "data": {
      "text/plain": [
       "99995    therealilza quotoh say sequot aha make home sa...\n",
       "99996                                    kids id nevermind\n",
       "99997    magotron haha think might litle old lady lives...\n",
       "99998                             heznes come hoked colfax\n",
       "99999        cleared bils month awesome put rest aside fun\n",
       "Name: text_trans, dtype: object"
      ]
     },
     "execution_count": 16,
     "metadata": {},
     "output_type": "execute_result"
    }
   ],
   "source": [
    "# Nettoyage des caracteres repetitifs\n",
    "def cleaning_repeating_char(text):\n",
    "    return re.sub(r'(.)\\1+', r'\\1', text)\n",
    "\n",
    "df['text_trans'] = df['text_trans'].apply(lambda x: cleaning_repeating_char(x))\n",
    "df['text_trans'].tail()"
   ]
  },
  {
   "cell_type": "code",
   "execution_count": 17,
   "id": "74decf6e-326a-4fcf-ac47-512d6c7e961d",
   "metadata": {},
   "outputs": [
    {
     "data": {
      "text/plain": [
       "99995    therealilza quotoh say sequot aha make home sa...\n",
       "99996                                    kids id nevermind\n",
       "99997    magotron haha think might litle old lady lives...\n",
       "99998                             heznes come hoked colfax\n",
       "99999        cleared bils month awesome put rest aside fun\n",
       "Name: text_trans, dtype: object"
      ]
     },
     "execution_count": 17,
     "metadata": {},
     "output_type": "execute_result"
    }
   ],
   "source": [
    "# Nettayage des emails\n",
    "def cleaning_email(data):\n",
    "    return re.sub('@[^\\s]+', ' ', data)\n",
    "\n",
    "df['text_trans']= df['text_trans'].apply(lambda x: cleaning_email(x))\n",
    "df['text_trans'].tail()"
   ]
  },
  {
   "cell_type": "code",
   "execution_count": 18,
   "id": "445b1424-70ce-4a3d-8366-be0b21ddd09d",
   "metadata": {},
   "outputs": [
    {
     "data": {
      "text/plain": [
       "99995    therealilza quotoh say sequot aha make home sa...\n",
       "99996                                    kids id nevermind\n",
       "99997    magotron haha think might litle old lady lives...\n",
       "99998                             heznes come hoked colfax\n",
       "99999        cleared bils month awesome put rest aside fun\n",
       "Name: text_trans, dtype: object"
      ]
     },
     "execution_count": 18,
     "metadata": {},
     "output_type": "execute_result"
    }
   ],
   "source": [
    "# Nettoyage des URL\n",
    "def cleaning_URLs(data):\n",
    "    return re.sub('((www\\.[^\\s]+)|(https?://[^\\s]+))',' ',data)\n",
    "df['text_trans'] = df['text_trans'].apply(lambda x: cleaning_URLs(x))\n",
    "df['text_trans'].tail()"
   ]
  },
  {
   "cell_type": "code",
   "execution_count": 19,
   "id": "57228855-adf3-422e-8a5e-3af115644e8a",
   "metadata": {},
   "outputs": [
    {
     "data": {
      "text/plain": [
       "99995    therealilza quotoh say sequot aha make home sa...\n",
       "99996                                    kids id nevermind\n",
       "99997    magotron haha think might litle old lady lives...\n",
       "99998                             heznes come hoked colfax\n",
       "99999        cleared bils month awesome put rest aside fun\n",
       "Name: text_trans, dtype: object"
      ]
     },
     "execution_count": 19,
     "metadata": {},
     "output_type": "execute_result"
    }
   ],
   "source": [
    "# Nettoyage des nombres\n",
    "def cleaning_numbers(data):\n",
    "    return re.sub('[0-9]+', '', data)\n",
    "\n",
    "df['text_trans'] = df['text_trans'].apply(lambda x: cleaning_numbers(x))\n",
    "df['text_trans'].tail()"
   ]
  },
  {
   "cell_type": "markdown",
   "id": "9254674e-7432-41ad-9782-6c021f191fe1",
   "metadata": {},
   "source": [
    "<h1 style = 'color : blue; font-family: cambria; text-align: center'>III- Tokenisation des donnees</h1>"
   ]
  },
  {
   "cell_type": "code",
   "execution_count": 20,
   "id": "d5cae8bc-ff04-426b-b2a6-d798f6455e3b",
   "metadata": {},
   "outputs": [
    {
     "data": {
      "text/plain": [
       "0             [carolcarter, think, believe, one, time]\n",
       "1    [nursebc, know, boys, r, wide, awake, n, im, f...\n",
       "2    [madiean, either, mean, send, hes, playing, ha...\n",
       "3    [mswindows, realy, wish, microsoft, would, sto...\n",
       "4    [tomcfly, stil, think, brazilians, fans, beter...\n",
       "Name: text_trans, dtype: object"
      ]
     },
     "execution_count": 20,
     "metadata": {},
     "output_type": "execute_result"
    }
   ],
   "source": [
    "# Tokenisation du text\n",
    "tokenizer = RegexpTokenizer(r'\\w+')\n",
    "df['text_trans'] = df['text_trans'].apply(tokenizer.tokenize)\n",
    "df['text_trans'].head()"
   ]
  },
  {
   "cell_type": "code",
   "execution_count": 21,
   "id": "3de05478-e52f-4579-8fd4-162fcc167c15",
   "metadata": {},
   "outputs": [
    {
     "data": {
      "text/plain": [
       "0             [carolcarter, think, believe, one, time]\n",
       "1    [nursebc, know, boys, r, wide, awake, n, im, f...\n",
       "2    [madiean, either, mean, send, hes, playing, ha...\n",
       "3    [mswindows, realy, wish, microsoft, would, sto...\n",
       "4    [tomcfly, stil, think, brazilians, fans, beter...\n",
       "Name: text_trans, dtype: object"
      ]
     },
     "execution_count": 21,
     "metadata": {},
     "output_type": "execute_result"
    }
   ],
   "source": [
    "# Stemming\n",
    "\n",
    "st = nltk.PorterStemmer()\n",
    "def stemming_on_text(data):\n",
    "    text = [st.stem(word) for word in data]\n",
    "    return data\n",
    "\n",
    "df['text_trans']= df['text_trans'].apply(lambda x: stemming_on_text(x))\n",
    "df['text_trans'].head()"
   ]
  },
  {
   "cell_type": "code",
   "execution_count": 22,
   "id": "b11d3061-c198-466a-b5fc-927dbcf9972d",
   "metadata": {},
   "outputs": [
    {
     "data": {
      "text/html": [
       "<div>\n",
       "<style scoped>\n",
       "    .dataframe tbody tr th:only-of-type {\n",
       "        vertical-align: middle;\n",
       "    }\n",
       "\n",
       "    .dataframe tbody tr th {\n",
       "        vertical-align: top;\n",
       "    }\n",
       "\n",
       "    .dataframe thead th {\n",
       "        text-align: right;\n",
       "    }\n",
       "</style>\n",
       "<table border=\"1\" class=\"dataframe\">\n",
       "  <thead>\n",
       "    <tr style=\"text-align: right;\">\n",
       "      <th></th>\n",
       "      <th>text</th>\n",
       "      <th>text_trans</th>\n",
       "    </tr>\n",
       "  </thead>\n",
       "  <tbody>\n",
       "    <tr>\n",
       "      <th>0</th>\n",
       "      <td>@carol_carter1 I don't think so  I believe it ...</td>\n",
       "      <td>[carolcarter, think, believe, one, time]</td>\n",
       "    </tr>\n",
       "    <tr>\n",
       "      <th>1</th>\n",
       "      <td>@nursebc1974 I know!!!  My boys r wide awake, ...</td>\n",
       "      <td>[nursebc, know, boys, r, wide, awake, n, im, f...</td>\n",
       "    </tr>\n",
       "    <tr>\n",
       "      <th>2</th>\n",
       "      <td>@Maddieeann either he didn't mean to send it t...</td>\n",
       "      <td>[madiean, either, mean, send, hes, playing, ha...</td>\n",
       "    </tr>\n",
       "    <tr>\n",
       "      <th>3</th>\n",
       "      <td>@MSWindows I really wish microsoft would stop ...</td>\n",
       "      <td>[mswindows, realy, wish, microsoft, would, sto...</td>\n",
       "    </tr>\n",
       "    <tr>\n",
       "      <th>4</th>\n",
       "      <td>@tommcfly I still think that brazilian's fans ...</td>\n",
       "      <td>[tomcfly, stil, think, brazilians, fans, beter...</td>\n",
       "    </tr>\n",
       "    <tr>\n",
       "      <th>...</th>\n",
       "      <td>...</td>\n",
       "      <td>...</td>\n",
       "    </tr>\n",
       "    <tr>\n",
       "      <th>995</th>\n",
       "      <td>and when I got out my phone was dead :[[ it li...</td>\n",
       "      <td>[got, phone, dead, lived, weks, ugh]</td>\n",
       "    </tr>\n",
       "    <tr>\n",
       "      <th>996</th>\n",
       "      <td>@Anna_Montanna Yeah but it isn't activated.</td>\n",
       "      <td>[anamontana, yeah, activated]</td>\n",
       "    </tr>\n",
       "    <tr>\n",
       "      <th>997</th>\n",
       "      <td>Aww  i'm at retarded leadership shit</td>\n",
       "      <td>[aw, im, retarded, leadership, shit]</td>\n",
       "    </tr>\n",
       "    <tr>\n",
       "      <th>998</th>\n",
       "      <td>@cehouck that's because we're like the same pe...</td>\n",
       "      <td>[cehouck, thats, were, like, person, ahaha, ps...</td>\n",
       "    </tr>\n",
       "    <tr>\n",
       "      <th>999</th>\n",
       "      <td>Crap! I screwed up my entire Adobe Suite insta...</td>\n",
       "      <td>[crap, screwed, entire, adobe, suite, instal, ...</td>\n",
       "    </tr>\n",
       "  </tbody>\n",
       "</table>\n",
       "<p>1000 rows × 2 columns</p>\n",
       "</div>"
      ],
      "text/plain": [
       "                                                  text  \\\n",
       "0    @carol_carter1 I don't think so  I believe it ...   \n",
       "1    @nursebc1974 I know!!!  My boys r wide awake, ...   \n",
       "2    @Maddieeann either he didn't mean to send it t...   \n",
       "3    @MSWindows I really wish microsoft would stop ...   \n",
       "4    @tommcfly I still think that brazilian's fans ...   \n",
       "..                                                 ...   \n",
       "995  and when I got out my phone was dead :[[ it li...   \n",
       "996       @Anna_Montanna Yeah but it isn't activated.    \n",
       "997               Aww  i'm at retarded leadership shit   \n",
       "998  @cehouck that's because we're like the same pe...   \n",
       "999  Crap! I screwed up my entire Adobe Suite insta...   \n",
       "\n",
       "                                            text_trans  \n",
       "0             [carolcarter, think, believe, one, time]  \n",
       "1    [nursebc, know, boys, r, wide, awake, n, im, f...  \n",
       "2    [madiean, either, mean, send, hes, playing, ha...  \n",
       "3    [mswindows, realy, wish, microsoft, would, sto...  \n",
       "4    [tomcfly, stil, think, brazilians, fans, beter...  \n",
       "..                                                 ...  \n",
       "995               [got, phone, dead, lived, weks, ugh]  \n",
       "996                      [anamontana, yeah, activated]  \n",
       "997               [aw, im, retarded, leadership, shit]  \n",
       "998  [cehouck, thats, were, like, person, ahaha, ps...  \n",
       "999  [crap, screwed, entire, adobe, suite, instal, ...  \n",
       "\n",
       "[1000 rows x 2 columns]"
      ]
     },
     "execution_count": 22,
     "metadata": {},
     "output_type": "execute_result"
    }
   ],
   "source": [
    "#texte initial vs texte final\n",
    "data = df.iloc[:1000].copy()\n",
    "data[[\"text\", \"text_trans\"]]"
   ]
  },
  {
   "cell_type": "code",
   "execution_count": 23,
   "id": "240f1bf0-3906-4901-be4c-ca19591599dd",
   "metadata": {},
   "outputs": [
    {
     "data": {
      "text/plain": [
       "Index(['label', 'time', 'date', 'query', 'user_id', 'text', 'text_trans'], dtype='object')"
      ]
     },
     "execution_count": 23,
     "metadata": {},
     "output_type": "execute_result"
    }
   ],
   "source": [
    "df.columns"
   ]
  },
  {
   "cell_type": "markdown",
   "id": "75312316-dc79-4ac2-b22f-ece49bab9941",
   "metadata": {},
   "source": [
    "<h3 style = 'color : orange; font-family: cambria'>III.1- Separation du dataset</h3>"
   ]
  },
  {
   "cell_type": "code",
   "execution_count": 24,
   "id": "02f2a2bd-7ac5-4612-bf13-d14051e61d3a",
   "metadata": {},
   "outputs": [],
   "source": [
    "## definition des parametres\n",
    "MAX_NB_WORDS = 10000  ## 100000\n",
    "MAX_SEQUENCE_LENGTH = 30  ## chaque sequence a une taille de 30 mots"
   ]
  },
  {
   "cell_type": "markdown",
   "id": "68090ccd-c083-4b06-a225-78b3b8a7b827",
   "metadata": {},
   "source": [
    "### Prepartion des donnees d'entrées\n",
    "* Conversion du texte en sequence\n",
    "* Selection d'un vocabulaire de 10000 mots par rapport a l'importance de ceux-ci dans les differents labels"
   ]
  },
  {
   "cell_type": "code",
   "execution_count": 25,
   "id": "8d5eafe0-f869-4129-9725-8e15c6dbd9b5",
   "metadata": {},
   "outputs": [
    {
     "name": "stdout",
     "output_type": "stream",
     "text": [
      "Train Data size: 80000\n",
      "Test Data size 20000\n"
     ]
    }
   ],
   "source": [
    "train_data, test_data = train_test_split(df[[\"label\",\"text_trans\"]], test_size=0.2,\n",
    "                                         random_state=7) \n",
    "# separation du dataset en training et testing sets\n",
    "\n",
    "print(\"Train Data size:\", len(train_data))\n",
    "print(\"Test Data size\", len(test_data))"
   ]
  },
  {
   "cell_type": "code",
   "execution_count": 26,
   "id": "57e98d5b-c528-4995-88a5-37c9e6b3567b",
   "metadata": {},
   "outputs": [
    {
     "data": {
      "text/html": [
       "<div>\n",
       "<style scoped>\n",
       "    .dataframe tbody tr th:only-of-type {\n",
       "        vertical-align: middle;\n",
       "    }\n",
       "\n",
       "    .dataframe tbody tr th {\n",
       "        vertical-align: top;\n",
       "    }\n",
       "\n",
       "    .dataframe thead th {\n",
       "        text-align: right;\n",
       "    }\n",
       "</style>\n",
       "<table border=\"1\" class=\"dataframe\">\n",
       "  <thead>\n",
       "    <tr style=\"text-align: right;\">\n",
       "      <th></th>\n",
       "      <th>label</th>\n",
       "      <th>text_trans</th>\n",
       "    </tr>\n",
       "  </thead>\n",
       "  <tbody>\n",
       "    <tr>\n",
       "      <th>91526</th>\n",
       "      <td>Positive</td>\n",
       "      <td>[ned, work, word, esay, chapter]</td>\n",
       "    </tr>\n",
       "    <tr>\n",
       "      <th>19416</th>\n",
       "      <td>Negative</td>\n",
       "      <td>[etsywiki, coming, up, get, eror, page]</td>\n",
       "    </tr>\n",
       "    <tr>\n",
       "      <th>99079</th>\n",
       "      <td>Positive</td>\n",
       "      <td>[ubercol, absolutely, blast, remember, harem, ...</td>\n",
       "    </tr>\n",
       "    <tr>\n",
       "      <th>45086</th>\n",
       "      <td>Negative</td>\n",
       "      <td>[final, exams]</td>\n",
       "    </tr>\n",
       "    <tr>\n",
       "      <th>54659</th>\n",
       "      <td>Positive</td>\n",
       "      <td>[bigcam, lol, quen, victoria, precise]</td>\n",
       "    </tr>\n",
       "    <tr>\n",
       "      <th>50266</th>\n",
       "      <td>Positive</td>\n",
       "      <td>[stil, unhapy, lack, guitar, string, realy, wa...</td>\n",
       "    </tr>\n",
       "    <tr>\n",
       "      <th>62172</th>\n",
       "      <td>Positive</td>\n",
       "      <td>[words, hanah, montana, nobodys, perfect]</td>\n",
       "    </tr>\n",
       "    <tr>\n",
       "      <th>66637</th>\n",
       "      <td>Positive</td>\n",
       "      <td>[like, cover, environmental, science, bok, haha]</td>\n",
       "    </tr>\n",
       "    <tr>\n",
       "      <th>95845</th>\n",
       "      <td>Positive</td>\n",
       "      <td>[ah, kim, kardashian, absolutely, love, her, a...</td>\n",
       "    </tr>\n",
       "    <tr>\n",
       "      <th>98862</th>\n",
       "      <td>Positive</td>\n",
       "      <td>[fel, god, eating, dry, cherios, like, litle, ...</td>\n",
       "    </tr>\n",
       "  </tbody>\n",
       "</table>\n",
       "</div>"
      ],
      "text/plain": [
       "          label                                         text_trans\n",
       "91526  Positive                   [ned, work, word, esay, chapter]\n",
       "19416  Negative            [etsywiki, coming, up, get, eror, page]\n",
       "99079  Positive  [ubercol, absolutely, blast, remember, harem, ...\n",
       "45086  Negative                                     [final, exams]\n",
       "54659  Positive             [bigcam, lol, quen, victoria, precise]\n",
       "50266  Positive  [stil, unhapy, lack, guitar, string, realy, wa...\n",
       "62172  Positive          [words, hanah, montana, nobodys, perfect]\n",
       "66637  Positive   [like, cover, environmental, science, bok, haha]\n",
       "95845  Positive  [ah, kim, kardashian, absolutely, love, her, a...\n",
       "98862  Positive  [fel, god, eating, dry, cherios, like, litle, ..."
      ]
     },
     "execution_count": 26,
     "metadata": {},
     "output_type": "execute_result"
    }
   ],
   "source": [
    "train_data.head(10)"
   ]
  },
  {
   "cell_type": "code",
   "execution_count": 28,
   "id": "ac59f1a0-c590-46a3-85af-1c406d3a106a",
   "metadata": {},
   "outputs": [],
   "source": [
    "## Creation du tokenizer\n",
    "tokenizer = Tokenizer()\n",
    "tokenizer.fit_on_texts(train_data.text_trans) \n",
    "### creation d'un dictionnaire de vocabulaire"
   ]
  },
  {
   "cell_type": "code",
   "execution_count": 29,
   "id": "9ad69820-3c94-4af2-a6c3-013bd41fd0ac",
   "metadata": {},
   "outputs": [
    {
     "name": "stdout",
     "output_type": "stream",
     "text": [
      "\n",
      "Vocabulary Size : 84758\n"
     ]
    }
   ],
   "source": [
    "word_index = tokenizer.word_index\n",
    "vocab_size = len(tokenizer.word_index) + 1\n",
    "print(\"\\nVocabulary Size :\", vocab_size)  "
   ]
  },
  {
   "cell_type": "code",
   "execution_count": 32,
   "id": "81c64a2c-9eaf-4100-a26e-37855b0bc0aa",
   "metadata": {},
   "outputs": [
    {
     "name": "stdout",
     "output_type": "stream",
     "text": [
      "Training X Shape: (80000, 30)\n",
      "Testing X Shape: (20000, 30)\n"
     ]
    }
   ],
   "source": [
    "x_train = pad_sequences(tokenizer.texts_to_sequences(train_data.text_trans),\n",
    "                        maxlen = MAX_SEQUENCE_LENGTH)\n",
    "x_test = pad_sequences(tokenizer.texts_to_sequences(test_data.text_trans),\n",
    "                       maxlen = MAX_SEQUENCE_LENGTH)\n",
    "\n",
    "print(\"Training X Shape:\",x_train.shape)\n",
    "print(\"Testing X Shape:\",x_test.shape)"
   ]
  },
  {
   "cell_type": "markdown",
   "id": "c80c8b00-89a3-49d3-a84d-f9dca667a7a6",
   "metadata": {},
   "source": [
    "## Encodage\n"
   ]
  },
  {
   "cell_type": "code",
   "execution_count": 35,
   "id": "e35e50f6-9e13-4c2f-9cc4-56d32cc9f246",
   "metadata": {},
   "outputs": [
    {
     "name": "stdout",
     "output_type": "stream",
     "text": [
      "y_train shape: (80000, 1)\n",
      "y_test shape: (20000, 1)\n"
     ]
    }
   ],
   "source": [
    "encoder = LabelEncoder()\n",
    "encoder.fit(train_data.label.to_list())\n",
    "\n",
    "y_train = encoder.transform(train_data.label.to_list())\n",
    "y_test = encoder.transform(test_data.label.to_list())\n",
    "\n",
    "y_train = y_train.reshape(-1,1)\n",
    "y_test = y_test.reshape(-1,1)\n",
    "\n",
    "print(\"y_train shape:\", y_train.shape)\n",
    "print(\"y_test shape:\", y_test.shape)"
   ]
  },
  {
   "cell_type": "markdown",
   "id": "fefcff49-c2fc-412f-a40d-25ef4916ac4f",
   "metadata": {},
   "source": [
    "## Vectorisation\n",
    "Ici nous allons utilisé le model pretrainé de CNN GloVe pour la representations des mots"
   ]
  },
  {
   "cell_type": "code",
   "execution_count": 58,
   "id": "fb5cf7d9-0779-4bd5-b279-d5db4138d77a",
   "metadata": {},
   "outputs": [],
   "source": [
    "glove_path = 'glove.6B/glove.6B.300d.txt'\n",
    "embedding_dim = 300   ### pour controller l'espace entre les differents mots vectorisés\n",
    "model_path = 'save/model_avanced_lstm/model_diLstm.h5'"
   ]
  },
  {
   "cell_type": "code",
   "execution_count": 39,
   "id": "54e044b5-0427-4a69-bb39-9388e01364fe",
   "metadata": {},
   "outputs": [
    {
     "name": "stdout",
     "output_type": "stream",
     "text": [
      "Found 400000 word vectors.\n"
     ]
    }
   ],
   "source": [
    "embeddings_index = {}\n",
    "\n",
    "### Processing the file\n",
    "for line in open(glove_path , encoding = 'utf-8'):\n",
    "    values = line.split()\n",
    "    word = value = values[0]\n",
    "    coefs = np.asarray(values[1:], dtype='float32')\n",
    "    embeddings_index[word] = coefs\n",
    "\n",
    "print('Found %s word vectors.' %len(embeddings_index))"
   ]
  },
  {
   "cell_type": "code",
   "execution_count": 40,
   "id": "f1f3492e-6f14-41ff-9632-17d862fa2d46",
   "metadata": {},
   "outputs": [],
   "source": [
    "### Creation de la matrice d'embedding\n",
    "embedding_matrix = np.zeros((vocab_size, embedding_dim))  \n",
    "for word, i in word_index.items():\n",
    "    embedding_vector = embeddings_index.get(word)  \n",
    "    if embedding_vector is not None:\n",
    "        embedding_matrix[i] = embedding_vector"
   ]
  },
  {
   "cell_type": "code",
   "execution_count": 41,
   "id": "aa268318-1130-4f15-be80-79fc19fb10e8",
   "metadata": {},
   "outputs": [
    {
     "name": "stdout",
     "output_type": "stream",
     "text": [
      "For the word \"love\", its respective vector representation in a 300 Dimensional Space is:\n",
      "\n",
      " [-4.52050000e-01 -3.31220001e-01 -6.36069998e-02  2.83250008e-02\n",
      " -2.13719994e-01  1.68390006e-01 -1.71859991e-02  4.73090000e-02\n",
      " -5.23549989e-02 -9.87060010e-01  5.37620008e-01 -2.68929988e-01\n",
      " -5.42940021e-01  7.24869967e-02  6.61929995e-02 -2.18140006e-01\n",
      " -1.21129997e-01 -2.88320005e-01  4.81610000e-01  6.91850007e-01\n",
      " -2.00220004e-01  1.00820005e+00 -1.18649997e-01  5.87100029e-01\n",
      "  1.84819996e-01  4.57989983e-02 -1.78360008e-02 -3.39520007e-01\n",
      "  2.93139994e-01 -1.99509993e-01 -1.89300001e-01  4.32669997e-01\n",
      " -6.31810009e-01 -2.95100003e-01 -1.05470002e+00  1.82310000e-01\n",
      " -4.50399995e-01 -2.77999997e-01 -1.40210003e-01  3.67849991e-02\n",
      "  2.64869988e-01 -6.67119980e-01 -1.52040005e-01 -3.50010008e-01\n",
      "  4.08639997e-01 -7.36149997e-02  6.76299989e-01  1.82740003e-01\n",
      " -4.16599996e-02  1.50140002e-02  2.52160013e-01 -1.01089999e-01\n",
      "  3.19150016e-02 -1.12980001e-01 -4.01470006e-01  1.72739998e-01\n",
      "  1.84970000e-03  2.44560003e-01  6.87770009e-01 -2.70190001e-01\n",
      "  8.07280004e-01 -5.82959987e-02  4.05499995e-01  3.98930013e-01\n",
      " -9.16879997e-02 -5.20799994e-01  2.45700002e-01  6.30009994e-02\n",
      "  2.14210004e-01  3.31970006e-01 -3.42990011e-01 -4.87349987e-01\n",
      "  2.22640000e-02  2.78620005e-01  2.38810003e-01  9.77939963e-02\n",
      "  3.80230010e-01 -3.77440006e-02 -4.19660002e-01 -1.91450000e-01\n",
      " -9.58300009e-02  2.68709987e-01  5.28760016e-01 -2.68700004e-01\n",
      " -3.44500005e-01  2.54130006e-01  1.36059999e-01  3.65280002e-01\n",
      "  8.19600001e-02 -5.22239983e-01  3.41590010e-02  1.70190006e-01\n",
      " -1.05200000e-01 -8.08730006e-01 -1.80950001e-01 -6.08230010e-02\n",
      "  2.60140002e-01 -7.87170008e-02 -1.51610002e-01 -6.84379995e-01\n",
      "  2.18089998e-01  4.73299995e-02 -1.21469997e-01 -3.38919997e-01\n",
      " -1.86289996e-02  2.45460004e-01  2.73739994e-01 -2.70449996e-01\n",
      " -8.72329995e-02 -4.78709996e-01  1.96300000e-01  2.31240001e-02\n",
      "  1.94529995e-01 -4.68600005e-01  4.44990009e-01  1.83599994e-01\n",
      " -1.64800003e-01  3.85980010e-01  3.60700011e-01 -3.11080009e-01\n",
      " -3.46269995e-01  1.90040007e-01 -9.86829996e-02  3.38209987e-01\n",
      " -1.39780000e-01 -7.27230012e-01 -1.06600001e-01  1.92079996e-03\n",
      " -3.30929995e-01  3.51170003e-01  1.54909998e-01  1.71499997e-01\n",
      "  2.89330006e-01 -4.92129996e-02 -5.05670011e-01 -2.35129997e-01\n",
      " -2.80050009e-01 -2.84869999e-01 -2.43929997e-01 -4.08379994e-02\n",
      " -2.72229999e-01  9.45639983e-02  1.73319995e-01  1.86910003e-01\n",
      " -1.35849997e-01 -4.64390010e-01 -4.56770003e-01  9.78899971e-02\n",
      "  3.91130000e-02  1.79010004e-01 -4.56290007e-01  4.75199997e-01\n",
      " -2.03879997e-01  2.41229996e-01  6.75509989e-01  6.21050000e-02\n",
      " -1.89400002e-01  1.50539994e-01  1.58749998e-01 -2.33649999e-01\n",
      "  3.74289989e-01 -2.34630004e-01  4.06919986e-01  1.40349999e-01\n",
      " -4.29710001e-01  5.67130029e-01 -2.67060012e-01 -6.80280030e-02\n",
      " -5.12639999e-01 -3.09450001e-01 -3.90650004e-01 -2.70040005e-01\n",
      " -1.18019998e+00  6.64799988e-01 -2.43660003e-01  3.91829997e-01\n",
      " -2.89700001e-01 -1.88390002e-01 -4.92819995e-01  1.45380005e-01\n",
      "  2.44670004e-01 -4.43399977e-03  2.32649997e-01  7.45439976e-02\n",
      " -3.00060004e-01 -3.02720010e-01 -1.23939998e-01  3.34729999e-01\n",
      "  3.38800013e-01  9.74450037e-02 -3.37729990e-01 -5.43160021e-01\n",
      " -4.75140005e-01 -1.56959996e-01 -9.35159981e-01 -8.70340019e-02\n",
      " -2.67430007e-01  6.46409986e-04  3.19400012e-01 -6.25619991e-03\n",
      "  1.58539999e+00  1.24839999e-01  4.84809995e-01  7.53939971e-02\n",
      "  1.89630002e-01 -1.02260001e-01  4.74130005e-01  7.04020023e-01\n",
      " -6.44180030e-02 -1.01810005e-02 -6.86190009e-01  1.53350001e-02\n",
      "  4.78510000e-02  3.76500010e-01  1.04869999e-01  2.29739994e-01\n",
      "  4.53520000e-01  3.14819992e-01  5.88800013e-02  6.70960024e-02\n",
      "  1.56790003e-01  1.30989999e-01  3.45810018e-02 -7.38959983e-02\n",
      " -3.64329994e-01 -1.88470006e-01  4.15560007e-02 -2.01240003e-01\n",
      " -7.39179999e-02  3.87519985e-01  1.67590007e-01 -4.06269997e-01\n",
      " -1.32200001e-02 -7.17930019e-01 -2.29039997e-01  2.04740003e-01\n",
      " -1.36480004e-01  3.77790004e-01 -4.00029987e-01 -5.01060002e-02\n",
      " -3.77990007e-01  7.21089989e-02  2.30570007e-02  2.38790005e-01\n",
      " -2.24230006e-01 -8.48340020e-02 -7.07260013e-01 -1.61819994e-01\n",
      "  2.63729990e-01  1.22259997e-01  8.02820027e-02  7.59629980e-02\n",
      " -3.46949995e-01  3.77029985e-01  3.66120011e-01 -9.84160006e-02\n",
      "  4.74000007e-01 -2.50849992e-01  1.86409995e-01 -2.59930015e-01\n",
      "  3.90349999e-02 -6.13940001e-01  1.47210002e-01 -6.76190019e-01\n",
      " -1.24890000e-01  3.80309999e-01 -2.80609995e-01 -3.96800011e-01\n",
      "  2.41650008e-02  9.87059996e-02  2.48380005e-01 -4.58810002e-01\n",
      "  2.03099996e-01 -4.35149997e-01 -7.78040010e-03 -2.46420000e-02\n",
      " -1.32040000e+00 -4.10780013e-01  2.81450003e-01  2.81879995e-02\n",
      " -2.04699993e-01  1.60370007e-01 -1.66960001e-01  1.37610003e-01\n",
      " -3.67139995e-01  1.38009995e-01 -2.06880003e-01  3.82739991e-01\n",
      "  2.12889999e-01 -7.50010014e-02 -5.03669977e-01 -2.92949993e-02\n",
      " -2.12539993e-02 -2.42530003e-01  3.35299999e-01 -3.55340004e-01\n",
      "  2.53580004e-01  3.89060006e-02  2.43139997e-01 -2.86960006e-02]\n"
     ]
    }
   ],
   "source": [
    "### pour representer un mot par son vecteur \n",
    "def funct_view_embedding(word):\n",
    "    print(f\"For the word \\\"{word}\\\", its respective vector representation in a 300 Dimensional Space is:\")\n",
    "    print(\"\\n\",embedding_matrix[word_index[f\"{word}\"]])\n",
    "\n",
    "funct_view_embedding(\"love\")  ## un petit exemple"
   ]
  },
  {
   "cell_type": "code",
   "execution_count": 42,
   "id": "3ed894b3-0e7c-4362-9ed9-a7c9182a1652",
   "metadata": {},
   "outputs": [
    {
     "data": {
      "text/plain": [
       "(84758, 300)"
      ]
     },
     "execution_count": 42,
     "metadata": {},
     "output_type": "execute_result"
    }
   ],
   "source": [
    "embedding_matrix.shape\n"
   ]
  },
  {
   "cell_type": "code",
   "execution_count": 43,
   "id": "92c817db-e87c-4258-970c-3cdf3164a79e",
   "metadata": {},
   "outputs": [],
   "source": [
    "## Creation de la couche d'embedding\n",
    "embedding_layer = Embedding(vocab_size,embedding_dim,\n",
    "                                        weights=[embedding_matrix],\n",
    "                                          input_length=MAX_SEQUENCE_LENGTH, ### length of longest sentence\n",
    "                                          trainable=False)"
   ]
  },
  {
   "cell_type": "markdown",
   "id": "ab64bdfb-842e-49f8-9949-4e2d68b229f6",
   "metadata": {},
   "source": [
    "<h1 style = 'color : blue; font-family: cambria; text-align: center'>IV- CONSTRUCTION DU MODELE</h1>"
   ]
  },
  {
   "cell_type": "code",
   "execution_count": 44,
   "id": "38b2b54c-6fe9-48fc-9979-b9e9d2c4a214",
   "metadata": {},
   "outputs": [
    {
     "name": "stdout",
     "output_type": "stream",
     "text": [
      "Model: \"model\"\n",
      "_________________________________________________________________\n",
      " Layer (type)                Output Shape              Param #   \n",
      "=================================================================\n",
      " input_1 (InputLayer)        [(None, 30)]              0         \n",
      "                                                                 \n",
      " embedding (Embedding)       (None, 30, 300)           25427400  \n",
      "                                                                 \n",
      " spatial_dropout1d (SpatialD  (None, 30, 300)          0         \n",
      " ropout1D)                                                       \n",
      "                                                                 \n",
      " conv1d (Conv1D)             (None, 26, 64)            96064     \n",
      "                                                                 \n",
      " bidirectional (Bidirectiona  (None, 128)              66048     \n",
      " l)                                                              \n",
      "                                                                 \n",
      " dense (Dense)               (None, 512)               66048     \n",
      "                                                                 \n",
      " dropout (Dropout)           (None, 512)               0         \n",
      "                                                                 \n",
      " dense_1 (Dense)             (None, 512)               262656    \n",
      "                                                                 \n",
      " dense_2 (Dense)             (None, 1)                 513       \n",
      "                                                                 \n",
      "=================================================================\n",
      "Total params: 25,918,729\n",
      "Trainable params: 491,329\n",
      "Non-trainable params: 25,427,400\n",
      "_________________________________________________________________\n"
     ]
    }
   ],
   "source": [
    "## Learning Rate:\n",
    "lr = 1e-2\n",
    "\n",
    "## Creation des couches\n",
    "sequence_input = Input(shape=(MAX_SEQUENCE_LENGTH,), dtype='int32')\n",
    "embedding_sequences = embedding_layer(sequence_input)\n",
    "x = SpatialDropout1D(0.2)(embedding_sequences)\n",
    "x = Conv1D(64, 5, activation='relu')(x)\n",
    "x = Bidirectional(LSTM(64, dropout=0.2, recurrent_dropout=0.2))(x)\n",
    "x = Dense(512, activation='relu')(x)\n",
    "x = Dropout(0.5)(x)\n",
    "x = Dense(512, activation='relu')(x)\n",
    "outputs = Dense(1, activation='sigmoid')(x)\n",
    "model = tf.keras.Model(sequence_input, outputs) \n",
    "\n",
    "model.compile(optimizer=Adam(learning_rate=lr), loss='binary_crossentropy',\n",
    "              metrics=['accuracy'])\n",
    "\n",
    "model.summary()"
   ]
  },
  {
   "cell_type": "code",
   "execution_count": 45,
   "id": "0bd539f6-047d-49c9-aabb-4f05e2ae52f8",
   "metadata": {},
   "outputs": [],
   "source": [
    "## politique de controle de learning rate:\n",
    "early_stopping = EarlyStopping(monitor='val_loss',patience=5,mode=\"auto\")\n",
    "\n",
    "## Checkpoints :\n",
    "checkpoint_path = 'model_checkpoints/'\n",
    "checkpoint = ModelCheckpoint(\n",
    "    filepath=checkpoint_path,\n",
    "    save_freq='epoch',\n",
    "    save_weights_only=True,\n",
    "    verbose=1\n",
    ")\n",
    "\n",
    "## Automatic learning rate update:\n",
    "reduce_lr = ReduceLROnPlateau(\n",
    "    monitor='val_loss', \n",
    "    factor=0.1,   \n",
    "    patience=5, \n",
    "    min_lr=0.001,\n",
    "    verbose=1\n",
    ")\n",
    "\n",
    "## Learning Rate Scheduler:\n",
    "def lr_decay(epoch, lr):\n",
    "    if epoch != 0 and epoch % 5 == 0:\n",
    "        return lr * 0.2\n",
    "    return lr\n",
    "\n",
    "lrs=LearningRateScheduler(lr_decay, verbose=1)"
   ]
  },
  {
   "cell_type": "code",
   "execution_count": 46,
   "id": "3b084f04-68bd-4a1b-bee2-a305d299a40e",
   "metadata": {},
   "outputs": [
    {
     "name": "stdout",
     "output_type": "stream",
     "text": [
      "WARNING:tensorflow:From C:\\Users\\Acern\\AppData\\Local\\Temp\\ipykernel_6508\\2293344113.py:1: is_gpu_available (from tensorflow.python.framework.test_util) is deprecated and will be removed in a future version.\n",
      "Instructions for updating:\n",
      "Use `tf.config.list_physical_devices('GPU')` instead.\n",
      "Training on CPU...\n"
     ]
    }
   ],
   "source": [
    "print(\"Training on GPU...\") if tf.test.is_gpu_available() else print(\"Training on CPU...\")"
   ]
  },
  {
   "cell_type": "code",
   "execution_count": 47,
   "id": "0c893d9a-6d22-49c1-88f4-463f11435497",
   "metadata": {},
   "outputs": [
    {
     "name": "stdout",
     "output_type": "stream",
     "text": [
      "\n",
      "Epoch 1: LearningRateScheduler setting learning rate to 0.009999999776482582.\n",
      "Epoch 1/20\n",
      "80/80 [==============================] - 55s 640ms/step - loss: 0.6375 - accuracy: 0.6607 - val_loss: 0.5491 - val_accuracy: 0.7190 - lr: 0.0100\n",
      "\n",
      "Epoch 2: LearningRateScheduler setting learning rate to 0.009999999776482582.\n",
      "Epoch 2/20\n",
      "80/80 [==============================] - 51s 640ms/step - loss: 0.5489 - accuracy: 0.7211 - val_loss: 0.5335 - val_accuracy: 0.7304 - lr: 0.0100\n",
      "\n",
      "Epoch 3: LearningRateScheduler setting learning rate to 0.009999999776482582.\n",
      "Epoch 3/20\n",
      "80/80 [==============================] - 52s 644ms/step - loss: 0.5224 - accuracy: 0.7406 - val_loss: 0.5314 - val_accuracy: 0.7261 - lr: 0.0100\n",
      "\n",
      "Epoch 4: LearningRateScheduler setting learning rate to 0.009999999776482582.\n",
      "Epoch 4/20\n",
      "80/80 [==============================] - 52s 652ms/step - loss: 0.5052 - accuracy: 0.7512 - val_loss: 0.5306 - val_accuracy: 0.7344 - lr: 0.0100\n",
      "\n",
      "Epoch 5: LearningRateScheduler setting learning rate to 0.009999999776482582.\n",
      "Epoch 5/20\n",
      "80/80 [==============================] - 52s 651ms/step - loss: 0.4906 - accuracy: 0.7624 - val_loss: 0.5299 - val_accuracy: 0.7355 - lr: 0.0100\n",
      "\n",
      "Epoch 6: LearningRateScheduler setting learning rate to 0.0019999999552965165.\n",
      "Epoch 6/20\n",
      "80/80 [==============================] - 56s 707ms/step - loss: 0.4554 - accuracy: 0.7826 - val_loss: 0.5369 - val_accuracy: 0.7374 - lr: 0.0020\n",
      "\n",
      "Epoch 7: LearningRateScheduler setting learning rate to 0.001999999862164259.\n",
      "Epoch 7/20\n",
      "80/80 [==============================] - 58s 723ms/step - loss: 0.4401 - accuracy: 0.7941 - val_loss: 0.5541 - val_accuracy: 0.7339 - lr: 0.0020\n",
      "\n",
      "Epoch 8: LearningRateScheduler setting learning rate to 0.001999999862164259.\n",
      "Epoch 8/20\n",
      "80/80 [==============================] - 59s 741ms/step - loss: 0.4305 - accuracy: 0.7990 - val_loss: 0.5519 - val_accuracy: 0.7314 - lr: 0.0020\n",
      "\n",
      "Epoch 9: LearningRateScheduler setting learning rate to 0.001999999862164259.\n",
      "Epoch 9/20\n",
      "80/80 [==============================] - 57s 710ms/step - loss: 0.4240 - accuracy: 0.8031 - val_loss: 0.5539 - val_accuracy: 0.7322 - lr: 0.0020\n",
      "\n",
      "Epoch 10: LearningRateScheduler setting learning rate to 0.001999999862164259.\n",
      "Epoch 10/20\n",
      "80/80 [==============================] - 58s 720ms/step - loss: 0.4167 - accuracy: 0.8066 - val_loss: 0.5598 - val_accuracy: 0.7296 - lr: 0.0020\n"
     ]
    }
   ],
   "source": [
    "batch_size = 1000\n",
    "epochs = 20\n",
    "history = model.fit(x_train, y_train, batch_size=batch_size, epochs=epochs,\n",
    "                    validation_data=(x_test, y_test), callbacks=[early_stopping,lrs])"
   ]
  },
  {
   "cell_type": "code",
   "execution_count": 61,
   "id": "7b2ccc17-ae8b-43c5-bdcd-f5084d20e128",
   "metadata": {},
   "outputs": [],
   "source": [
    "model.save('save/model_avanced_lstm/model_biLstm.h5')"
   ]
  },
  {
   "cell_type": "markdown",
   "id": "b342c874-e69c-4237-8fe7-403d3a6a4c6d",
   "metadata": {},
   "source": [
    "<h1 style = 'color : blue; font-family: cambria; text-align: center'>V- PREDICTION ET VISUALISATION DU RESULTAT</h1>"
   ]
  },
  {
   "cell_type": "markdown",
   "id": "37f9dc35-b55f-4a93-80a4-f0c61d83a8c8",
   "metadata": {},
   "source": [
    "<h3 style = 'color : orange; font-family: cambria'>V.1- Prediction </h3>"
   ]
  },
  {
   "cell_type": "code",
   "execution_count": 49,
   "id": "91c60f3c-1803-4bad-9b98-1333354815c2",
   "metadata": {},
   "outputs": [
    {
     "data": {
      "text/plain": [
       "<matplotlib.legend.Legend at 0x17767d0ff40>"
      ]
     },
     "execution_count": 49,
     "metadata": {},
     "output_type": "execute_result"
    },
    {
     "data": {
      "image/png": "[encoded data removed]",
      "text/plain": [
       "<Figure size 1500x700 with 2 Axes>"
      ]
     },
     "metadata": {},
     "output_type": "display_data"
    }
   ],
   "source": [
    "fig,ax=plt.subplots(1,2,figsize=(15,7))\n",
    "ax[0].plot(history.history['accuracy'],c= 'b',label=\"train_accuracy\")\n",
    "ax[0].plot(history.history['val_accuracy'],c= 'r',label=\"val_accuracy\")\n",
    "ax[0].set_xlabel(\"Number of Epochs\")\n",
    "ax[0].set_ylabel(\"Accuracy\")\n",
    "ax[0].legend()\n",
    "\n",
    "ax[1].plot(history.history['loss'],c= 'b',label=\"train_loss\")\n",
    "ax[1].plot(history.history['val_loss'],c= 'r',label=\"val_loss\")\n",
    "ax[1].set_xlabel(\"Number of Epochs\")\n",
    "ax[1].set_ylabel(\"Loss\")\n",
    "ax[1].legend()"
   ]
  },
  {
   "cell_type": "code",
   "execution_count": 50,
   "id": "425cfa9d-4f5c-4196-9ae3-0060f1d35fb8",
   "metadata": {},
   "outputs": [
    {
     "name": "stdout",
     "output_type": "stream",
     "text": [
      "20/20 [==============================] - 3s 104ms/step\n"
     ]
    }
   ],
   "source": [
    "def decode_sentiment(score):\n",
    "    return \"Positive\" if score>0.5 else \"Negative\"\n",
    "\n",
    "\n",
    "scores = model.predict(x_test, verbose=1, batch_size=1000)\n",
    "y_pred_1d = [decode_sentiment(score) for score in scores]"
   ]
  },
  {
   "cell_type": "markdown",
   "id": "5801d866-5f91-4b10-a2d4-00fef81f38aa",
   "metadata": {},
   "source": [
    "<h3 style = 'color : orange; font-family: cambria'>V.2- Visualisation des resultats</h3>"
   ]
  },
  {
   "cell_type": "code",
   "execution_count": 52,
   "id": "d51eba3b-b917-428d-8356-ecbcbb7b8594",
   "metadata": {},
   "outputs": [],
   "source": [
    "### Affichage de la matrice de confusion\n",
    "\n",
    "def plot_confusion_matrix(cm, classes,\n",
    "                          title='Confusion matrix',\n",
    "                          cmap=plt.cm.bwr):\n",
    "    \"\"\"\n",
    "    Cette fonction trace et affiche la matrice de confusin pour ce model.\n",
    "    \"\"\"\n",
    "\n",
    "    cm = cm.astype('float') / cm.sum(axis=1)[:, np.newaxis]\n",
    "\n",
    "    plt.imshow(cm, interpolation='nearest', cmap=cmap)\n",
    "    plt.title(title, fontsize=20)\n",
    "    plt.colorbar()\n",
    "    tick_marks = np.arange(len(classes))\n",
    "    plt.xticks(tick_marks, classes, fontsize=13)\n",
    "    plt.yticks(tick_marks, classes, fontsize=13)\n",
    "\n",
    "    fmt = '.2f'\n",
    "    thresh = cm.max() / 2.\n",
    "    for i, j in itertools.product(range(cm.shape[0]), range(cm.shape[1])):\n",
    "        plt.text(j, i, format(cm[i, j], fmt),\n",
    "                 horizontalalignment=\"center\",\n",
    "                 color=\"white\" if cm[i, j] > thresh else \"black\")\n",
    "\n",
    "    plt.ylabel('True label', fontsize=17)\n",
    "    plt.xlabel('Predicted label', fontsize=17)"
   ]
  },
  {
   "cell_type": "code",
   "execution_count": 54,
   "id": "20bb9817-7540-4274-b7eb-876cb2c9a847",
   "metadata": {},
   "outputs": [
    {
     "data": {
      "image/png": "[encoded data removed]",
      "text/plain": [
       "<Figure size 600x600 with 2 Axes>"
      ]
     },
     "metadata": {},
     "output_type": "display_data"
    }
   ],
   "source": [
    "cnf_matrix = confusion_matrix(test_data.label.to_list(), y_pred_1d)\n",
    "plt.figure(figsize=(6,6))\n",
    "plot_confusion_matrix(cnf_matrix, classes=test_data.label.unique(), title=\"Confusion matrix\")\n",
    "plt.show()"
   ]
  },
  {
   "cell_type": "code",
   "execution_count": 56,
   "id": "ba5697db-acbe-4d37-9924-1991f880c17e",
   "metadata": {},
   "outputs": [
    {
     "name": "stdout",
     "output_type": "stream",
     "text": [
      "              precision    recall  f1-score   support\n",
      "\n",
      "    Negative       0.73      0.74      0.73     10024\n",
      "    Positive       0.73      0.72      0.73      9976\n",
      "\n",
      "    accuracy                           0.73     20000\n",
      "   macro avg       0.73      0.73      0.73     20000\n",
      "weighted avg       0.73      0.73      0.73     20000\n",
      "\n"
     ]
    }
   ],
   "source": [
    "#Tableau des precisions du model\n",
    "print(classification_report(list(test_data.label), y_pred_1d))"
   ]
  },
  {
   "cell_type": "markdown",
   "id": "2c7a49a6-e1c9-4726-98bd-a3fdcb2b2833",
   "metadata": {},
   "source": [
    "<h3 style = 'color : orange; font-family: cambria; text-align: center;'>CONCLUSION</h3>\n",
    "<p style = 'border-bottom: 2px solid red'>Le Notebook est une forme experimentale d'analyse et d'entrainement d'un modèle d'analyse de données.Le modèle  entraîné a une precision de 73%<br/>\n",
    "A la fin de l'entraînement du modèle final (sur le datasets final), il faudra  penser au prametrage des hyperparamètres avec keras Tuner.<br/></p>\n",
    "\n"
   ]
  },
  {
   "cell_type": "markdown",
   "id": "f9453f6e",
   "metadata": {},
   "source": []
  }
 ],
 "metadata": {
  "kernelspec": {
   "display_name": "Python 3 (ipykernel)",
   "language": "python",
   "name": "python3"
  },
  "language_info": {
   "codemirror_mode": {
    "name": "ipython",
    "version": 3
   },
   "file_extension": ".py",
   "mimetype": "text/x-python",
   "name": "python",
   "nbconvert_exporter": "python",
   "pygments_lexer": "ipython3",
   "version": "3.9.13"
  },
  "vscode": {
   "interpreter": {
    "hash": "bf22bc0a685d21803e24b22b4e95183ec0fe5ee48047b11b36126386770f7c81"
   }
  }
 },
 "nbformat": 4,
 "nbformat_minor": 5
}
